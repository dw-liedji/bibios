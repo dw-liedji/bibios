{
 "cells": [
  {
   "cell_type": "markdown",
   "metadata": {},
   "source": [
    "#### Install the only external dependency\n",
    "\n",
    "```Bash\n",
    "pip install bibtexparser\n",
    "```\n"
   ]
  },
  {
   "cell_type": "code",
   "execution_count": null,
   "metadata": {},
   "outputs": [],
   "source": [
    "import bibtexparser\n",
    "\n",
    "# The bib file to be cleaned\n",
    "with open('mybib.bib') as bibtex_file:\n",
    "    bib_database = bibtexparser.load(bibtex_file)\n",
    "\n",
    "print(bib_database.entries[0])"
   ]
  },
  {
   "cell_type": "code",
   "execution_count": null,
   "metadata": {},
   "outputs": [],
   "source": [
    "# The compiled bbl file (containing cited references)\n",
    "with open('main.bbl', 'r') as compiled_bib_file:\n",
    "    compiled_bib = str(compiled_bib_file.readlines())"
   ]
  },
  {
   "cell_type": "code",
   "execution_count": null,
   "metadata": {},
   "outputs": [],
   "source": [
    "# Cleaning the bib file\n",
    "clear_bib = []\n",
    "for entry in bib_database.entries:\n",
    "    if \"{\"+entry['ID']+\"}\" in compiled_bib:\n",
    "        clear_bib.append(entry)"
   ]
  },
  {
   "cell_type": "code",
   "execution_count": null,
   "metadata": {},
   "outputs": [],
   "source": [
    "from bibtexparser.bibdatabase import BibDatabase\n",
    "db = BibDatabase()\n",
    "db.entries = clear_bib"
   ]
  },
  {
   "cell_type": "code",
   "execution_count": null,
   "metadata": {},
   "outputs": [],
   "source": [
    "# exporting the cleaner file\n",
    "import bibtexparser\n",
    "with open('mybibo.bib', 'w') as bibtex_file:\n",
    "    bibtexparser.dump(db, bibtex_file)"
   ]
  },
  {
   "cell_type": "code",
   "execution_count": null,
   "metadata": {},
   "outputs": [],
   "source": [
    "# Calculating the number of junk references removed.\n",
    "removed = len(bib_database.entries) - len(db.entries)"
   ]
  },
  {
   "cell_type": "code",
   "execution_count": null,
   "metadata": {},
   "outputs": [],
   "source": [
    "print(f'{removed} junk references was removed!')"
   ]
  },
  {
   "cell_type": "code",
   "execution_count": null,
   "metadata": {},
   "outputs": [],
   "source": []
  }
 ],
 "metadata": {
  "kernelspec": {
   "display_name": "Python 3.8.3 ('base')",
   "language": "python",
   "name": "python3"
  },
  "language_info": {
   "codemirror_mode": {
    "name": "ipython",
    "version": 3
   },
   "file_extension": ".py",
   "mimetype": "text/x-python",
   "name": "python",
   "nbconvert_exporter": "python",
   "pygments_lexer": "ipython3",
   "version": "3.8.3"
  },
  "orig_nbformat": 4,
  "vscode": {
   "interpreter": {
    "hash": "016ae59624fba7a683acf3b7f3552eb4d9c1802a14b3fb0adf01faf2081fd65b"
   }
  }
 },
 "nbformat": 4,
 "nbformat_minor": 2
}
